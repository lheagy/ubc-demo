{
 "cells": [
  {
   "cell_type": "code",
   "execution_count": 10,
   "metadata": {},
   "outputs": [],
   "source": [
    "import numpy as np\n",
    "import pandas as pd"
   ]
  },
  {
   "cell_type": "code",
   "execution_count": 11,
   "metadata": {},
   "outputs": [],
   "source": [
    "mauna_loa_co2_data = pd.read_csv(\n",
    "    \"./data/monthly_in_situ_co2_mlo.csv\", # location of the data file\n",
    "    skiprows=np.arange(0, 56), # the data start on line 56 of the excel file\n",
    "    na_values=\"-99.99\"  # in the data file, -99.99 indicate missing values, so we ignore those\n",
    ")"
   ]
  },
  {
   "cell_type": "code",
   "execution_count": 12,
   "metadata": {},
   "outputs": [],
   "source": [
    "dates = np.array(mauna_loa_co2_data[\"Date\"])\n",
    "co2 = np.array(mauna_loa_co2_data[\"seasonally adjusted [ppm]\"])\n",
    "\n",
    "inds_isnan = np.isnan(dates) | np.isnan(co2)\n",
    "dates = dates[~inds_isnan]\n",
    "co2 = co2[~inds_isnan]\n",
    "\n",
    "np.savez(\"mauna_loa_data\", dates=dates, co2=co2)"
   ]
  },
  {
   "cell_type": "code",
   "execution_count": null,
   "metadata": {},
   "outputs": [],
   "source": []
  }
 ],
 "metadata": {
  "kernelspec": {
   "display_name": "Python 3",
   "language": "python",
   "name": "python3"
  },
  "language_info": {
   "codemirror_mode": {
    "name": "ipython",
    "version": 3
   },
   "file_extension": ".py",
   "mimetype": "text/x-python",
   "name": "python",
   "nbconvert_exporter": "python",
   "pygments_lexer": "ipython3",
   "version": "3.7.3"
  }
 },
 "nbformat": 4,
 "nbformat_minor": 4
}

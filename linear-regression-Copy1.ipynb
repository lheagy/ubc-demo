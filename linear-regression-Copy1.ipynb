{
 "cells": [
  {
   "cell_type": "markdown",
   "metadata": {},
   "source": [
    "# Learning models from data: Mauna Loa CO$_2$ record\n",
    "\n",
    "## Learning Goals\n",
    "- introduce the principles of linear regression\n",
    "- explore the impact of outliers in data\n",
    "- discuss the limitations of models and discuss trends at different scales\n",
    "\n",
    "## Context\n",
    "\n",
    "Scripps institute of Oceanography has a research station at Mauna Loa in Hawaii where they have been measuring atmospheric CO$_2$ since 1958. The data we will focus on are the seasonally adjusted data. \n",
    "\n",
    "<img src=\"https://scrippsco2.ucsd.edu/assets/images/mlo_station_map.png\" align=\"center\">\n",
    "\n",
    "**Data Source**\n",
    "\n",
    "C. D. Keeling, S. C. Piper, R. B. Bacastow, M. Wahlen, T. P. Whorf, M. Heimann, and  H. A. Meijer, Exchanges of atmospheric CO2 and 13CO2 with the terrestrial biosphere and  oceans from 1978 to 2000.  I. Global aspects, SIO Reference Series, No. 01-06, Scripps  Institution of Oceanography, San Diego, 88 pages, 2001. https://scrippsco2.ucsd.edu/data/atmospheric_co2/primary_mlo_co2_record.html   \n",
    "\n",
    "## Running the notebook\n",
    "- Each block of code can be run with `shift` + `enter` or from the menu with `Cell` + `Run Cells`\n",
    "- If you need to restart the notebook, go to the menu: `Kernel` + `Restart`. "
   ]
  },
  {
   "cell_type": "markdown",
   "metadata": {},
   "source": [
    "## Import the python packages we use in this lesson \n",
    "\n",
    "These are standard packages in python, \n",
    "- `calendar` gives us utilities for converting between the month number and the name of the month\n",
    "- `numpy` is the numerical array package in python\n",
    "- `pandas` is the tool we use for managing data\n",
    "- `matplotlib` has tools for plotting\n",
    "- `ipywidgets` lets us connect interactive components like slide bars and toggle buttons to the code"
   ]
  },
  {
   "cell_type": "code",
   "execution_count": 16,
   "metadata": {},
   "outputs": [],
   "source": [
    "import calendar\n",
    "import numpy as np\n",
    "import pandas as pd\n",
    "from scipy import stats\n",
    "import matplotlib.pyplot as plt\n",
    "import ipywidgets as widgets\n",
    "\n",
    "# set a larger font size for viewing \n",
    "from matplotlib import rcParams\n",
    "rcParams[\"font.size\"] = 12"
   ]
  },
  {
   "cell_type": "markdown",
   "metadata": {},
   "source": [
    "## Load the data from the excel file\n",
    "\n",
    "Here we use the [`pandas.read_csv`](https://pandas.pydata.org/pandas-docs/stable/reference/api/pandas.read_csv.html) function to load data from the excel file to a dataframe. "
   ]
  },
  {
   "cell_type": "code",
   "execution_count": 2,
   "metadata": {},
   "outputs": [],
   "source": [
    "mauna_loa_co2_data = pd.read_csv(\n",
    "    \"./data/monthly_in_situ_co2_mlo.csv\", # location of the data file\n",
    "    skiprows=np.arange(0, 56), # the data start on line 56 of the excel file\n",
    "    na_values=\"-99.99\"  # in the data file, -99.99 indicate missing values, so we ignore those\n",
    ")"
   ]
  },
  {
   "cell_type": "code",
   "execution_count": 3,
   "metadata": {},
   "outputs": [
    {
     "name": "stdout",
     "output_type": "stream",
     "text": [
      "The first year in the data is 1958 and the last year in the data set is 2020.\n"
     ]
    }
   ],
   "source": [
    "print(\n",
    "    f\"The first year in the data is {mauna_loa_co2_data['Year'].min()} \"\n",
    "    f\"and the last year in the data set is {mauna_loa_co2_data['Year'].max()}.\" \n",
    ")"
   ]
  },
  {
   "cell_type": "markdown",
   "metadata": {},
   "source": [
    "Grab the columns of data we are interested in working with. Here we choose the `seasonally adjusted` data. If instead, you would prefer to work with the non-adjusted data, just replace `seasonally adjusted` with `CO2` in the cell below. "
   ]
  },
  {
   "cell_type": "code",
   "execution_count": 4,
   "metadata": {},
   "outputs": [],
   "source": [
    "dates = mauna_loa_co2_data[\"Date\"]\n",
    "co2 = mauna_loa_co2_data[\"seasonally adjusted [ppm]\"]"
   ]
  },
  {
   "cell_type": "markdown",
   "metadata": {},
   "source": [
    "## Define some helper functions for fetching data\n",
    "\n",
    "- `get_data_between`  : fetches the seasonally adjusted CO$_2$ data from Mauna Loa between `year_min` and `year_max`\n",
    "\n",
    "- `plot_co2_data` plots the data between `year_min` and `year_max`"
   ]
  },
  {
   "cell_type": "code",
   "execution_count": 5,
   "metadata": {},
   "outputs": [],
   "source": [
    "def get_data_between(year_min=1958, year_max=2020, data_type=\"seasonally adjusted\"):\n",
    "    \"\"\"\n",
    "    A function to fetch data between year_min and year_max  \n",
    "    \"\"\"\n",
    "        \n",
    "    # find the data between the minimimum and maximum years\n",
    "    indices = (mauna_loa_co2_data[\"Year\"] >= year_min) & (mauna_loa_co2_data[\"Year\"] <= year_max) \n",
    "    \n",
    "    return dates[indices], co2[indices]\n",
    "    "
   ]
  },
  {
   "cell_type": "code",
   "execution_count": 10,
   "metadata": {},
   "outputs": [],
   "source": [
    "def plot_co2_data(dates, data, ax=None):\n",
    "    \"\"\"\n",
    "    A function that we can use to plot data between year_min and year_max\n",
    "    \"\"\"\n",
    "    \n",
    "    # create a figure if one isn't supplied\n",
    "    if ax is None:\n",
    "        fig, ax = plt.subplots(1, 1, figsize=(8, 5))\n",
    "        \n",
    "    # plot data\n",
    "    ax.plot(dates, data, '.',  ms=8)\n",
    "    ax.grid()\n",
    "    ax.set_xlabel(f\"Year\")\n",
    "    ax.set_ylabel(f\"Seasonally adjusted CO$_2$ [ppm]\")"
   ]
  },
  {
   "cell_type": "markdown",
   "metadata": {},
   "source": [
    "## Plot the whole data set"
   ]
  },
  {
   "cell_type": "code",
   "execution_count": 11,
   "metadata": {},
   "outputs": [
    {
     "data": {
      "image/png": "[encoded data removed]",
      "text/plain": [
       "<Figure size 576x360 with 1 Axes>"
      ]
     },
     "metadata": {
      "needs_background": "light"
     },
     "output_type": "display_data"
    }
   ],
   "source": [
    "plot_co2_data(dates, co2)"
   ]
  },
  {
   "cell_type": "markdown",
   "metadata": {},
   "source": [
    "## Focus on recent years: starting at 2018\n",
    "\n",
    "**Question:** If the trend since 2018 continues, what would we expect the CO$_2$ concentration to be in January, 2022?  \n",
    "\n",
    "**Note:** The Year includes a decimal in the following plot. That is how the month is indicated. For example: \n",
    "- January 2019 is 2019.00\n",
    "- April 2019 is 2019.00 + 3/12 = 2019.25"
   ]
  },
  {
   "cell_type": "code",
   "execution_count": 18,
   "metadata": {},
   "outputs": [
    {
     "data": {
      "image/png": "[encoded data removed]",
      "text/plain": [
       "<Figure size 576x360 with 1 Axes>"
      ]
     },
     "metadata": {
      "needs_background": "light"
     },
     "output_type": "display_data"
    }
   ],
   "source": [
    "dates_after_2018, data_after_2018 = get_data_between(year_min=2018)\n",
    "plot_co2_data(dates_after_2018, data_after_2018)"
   ]
  },
  {
   "cell_type": "markdown",
   "metadata": {},
   "source": [
    "### Part 1: The \"eyeball\" norm \n",
    "\n",
    "- using the widgets below, estimate a slope and intercept of a line that fits the data\n",
    "- the `slope` indicates the rate of CO$_2$ accumulation per year\n",
    "- the `intercept` is the estimated concentration of CO$_2$ in January of the first year we consider"
   ]
  },
  {
   "cell_type": "code",
   "execution_count": 46,
   "metadata": {},
   "outputs": [],
   "source": [
    "def add_line(dates, slope, intercept, ax=None):\n",
    "    \"\"\"\n",
    "    A function to add a line to a plot\n",
    "    \"\"\"\n",
    "    \n",
    "    # create a figure if one isn't supplied\n",
    "    if ax is None:\n",
    "        fig, ax = plt.subplots(1, 1, figsize=(8, 5))\n",
    "    \n",
    "    y = slope * (dates - dates.min()) + intercept\n",
    "    ax.plot(dates, y)"
   ]
  },
  {
   "cell_type": "code",
   "execution_count": 47,
   "metadata": {},
   "outputs": [
    {
     "data": {
      "application/vnd.jupyter.widget-view+json": {
       "model_id": "7ae0911455664c86a0593af494fe3128",
       "version_major": 2,
       "version_minor": 0
      },
      "text/plain": [
       "interactive(children=(FloatSlider(value=1.0, description='slope', max=10.0, min=1.0), FloatSlider(value=407.0,…"
      ]
     },
     "metadata": {},
     "output_type": "display_data"
    }
   ],
   "source": [
    "def widget_fit_2018(slope, intercept):\n",
    "    fig, ax = plt.subplots(1, 1, figsize=(8, 5))\n",
    "    plot_co2_data(dates_after_2018, data_after_2018, ax=ax)\n",
    "    ax.set_ylim([data_after_2018.min()-1, data_after_2018.max()+1])\n",
    "    add_line(dates_after_2018, slope, intercept, ax)\n",
    "\n",
    "widgets.interact(\n",
    "    widget_fit_2018, \n",
    "    slope=widgets.FloatSlider(min=1, max=10, step=0.1),\n",
    "    intercept=widgets.FloatSlider(min=407, max=415, step=0.25)\n",
    ");"
   ]
  },
  {
   "cell_type": "markdown",
   "metadata": {},
   "source": [
    "# Discuss with your neighbour\n",
    "\n",
    "- What are the features of a \"good fit\"? "
   ]
  },
  {
   "cell_type": "markdown",
   "metadata": {},
   "source": [
    "### Part 2: Using least squares\n",
    "\n",
    "In a linear regression, the measure of a `good fit` is \n",
    "\n",
    "$$\n",
    "\\phi = \\sum_i (d_i^{pred} - d_i^{obs})^2\n",
    "$$\n",
    "\n",
    "So what we are asking for is to minimize the vertical distance between each point and the line. \n"
   ]
  },
  {
   "cell_type": "code",
   "execution_count": null,
   "metadata": {},
   "outputs": [],
   "source": []
  },
  {
   "cell_type": "code",
   "execution_count": null,
   "metadata": {},
   "outputs": [],
   "source": []
  },
  {
   "cell_type": "markdown",
   "metadata": {},
   "source": [
    "## Upcoming:\n",
    "\n",
    "- How do we incorporate data uncertainties into our model?\n",
    "- How do we fit models which are not linear? "
   ]
  }
 ],
 "metadata": {
  "kernelspec": {
   "display_name": "Python 3",
   "language": "python",
   "name": "python3"
  },
  "language_info": {
   "codemirror_mode": {
    "name": "ipython",
    "version": 3
   },
   "file_extension": ".py",
   "mimetype": "text/x-python",
   "name": "python",
   "nbconvert_exporter": "python",
   "pygments_lexer": "ipython3",
   "version": "3.7.3"
  }
 },
 "nbformat": 4,
 "nbformat_minor": 4
}
